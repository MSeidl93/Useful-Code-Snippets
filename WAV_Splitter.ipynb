{
 "cells": [
  {
   "cell_type": "code",
   "execution_count": 10,
   "metadata": {},
   "outputs": [],
   "source": [
    "from pydub import AudioSegment\n",
    "step = 3000\n",
    "end = 0\n",
    "\n",
    "Audio = AudioSegment.from_wav('hailTrainingData2.wav')\n",
    "\n",
    "for i in range(75,150):\n",
    "    start = end\n",
    "    end = start + step\n",
    "    \n",
    "    \n",
    "    newAudio = Audio[start:end]\n",
    "    newAudio.export('snippets/hail_' + str(i) +'.wav', format=\"wav\") #Exports to a wav file in the current path."
   ]
  }
 ],
 "metadata": {
  "kernelspec": {
   "display_name": "Python 3",
   "language": "python",
   "name": "python3"
  },
  "language_info": {
   "codemirror_mode": {
    "name": "ipython",
    "version": 3
   },
   "file_extension": ".py",
   "mimetype": "text/x-python",
   "name": "python",
   "nbconvert_exporter": "python",
   "pygments_lexer": "ipython3",
   "version": "3.6.6"
  }
 },
 "nbformat": 4,
 "nbformat_minor": 2
}
